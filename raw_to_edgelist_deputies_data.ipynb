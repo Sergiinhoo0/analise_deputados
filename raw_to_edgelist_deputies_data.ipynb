{
 "cells": [
  {
   "cell_type": "markdown",
   "id": "9ec87856",
   "metadata": {},
   "source": [
    "# 0.0 Imports"
   ]
  },
  {
   "cell_type": "code",
   "execution_count": 28,
   "id": "4c934360",
   "metadata": {},
   "outputs": [],
   "source": [
    "import pandas as pd\n",
    "import numpy as np\n",
    "\n",
    "pd.set_option('display.max_rows', None)"
   ]
  },
  {
   "cell_type": "markdown",
   "id": "bef4b662",
   "metadata": {},
   "source": [
    "# 1.0 Funções"
   ]
  },
  {
   "cell_type": "code",
   "execution_count": 30,
   "id": "ccdb1a29",
   "metadata": {},
   "outputs": [],
   "source": [
    "def transform_dep_dp(caminho_arquivo):\n",
    "\n",
    "    # Ler arquivo bruto\n",
    "    df_raw = pd.read_excel(caminho_arquivo)\n",
    "\n",
    "    # Drop coluna vazia\n",
    "    df1 = df_raw.drop(\"Votação\", axis = 1)\n",
    "\n",
    "    # Salvar nome da sessão encurtado\n",
    "    pautas = df1.drop(\"Parlamentar\", axis = 1).columns\n",
    "\n",
    "    pautas_simp = []\n",
    "    for p in range(1, len(pautas)+1):\n",
    "        pautas_simp.append(\"V%i\" %p)\n",
    "\n",
    "    colunas_simp = pautas_simp.copy()\n",
    "    colunas_simp.insert(0, \"Parlamentar\")\n",
    "\n",
    "    df1.columns = colunas_simp\n",
    "\n",
    "    # Desconsiderar Ausências\n",
    "    df2 = df1.copy()\n",
    "    df2 = df2.replace([\"-\",\"Não votou\", \"Abstenção\", \"Eleição\", \"Art. 17\"], np.nan)\n",
    "\n",
    "    # Contar votações totais e iguais\n",
    "    weight = 0\n",
    "    div = 0\n",
    "    df_rede_vot = pd.DataFrame(columns = [\"source\", \"target\", \"weight\", \"total_vot\", \"menor_vot\"])\n",
    "    parlamentares = df1[\"Parlamentar\"].to_list()\n",
    "    \n",
    "    # Transposição\n",
    "    df2 = df2.transpose()[1:]\n",
    "    df2.columns = parlamentares\n",
    "\n",
    "    # Reset Index\n",
    "    df2 = df2.reset_index(drop = True)\n",
    "\n",
    "    for i in parlamentares:\n",
    "        for j in parlamentares:\n",
    "            # Desconsiderar relações já avaliadas\n",
    "            if (df2.columns.get_loc(i) < df2.columns.get_loc(j)):\n",
    "\n",
    "                df2.columns.get_loc(i)\n",
    "                \n",
    "                # Votações iguais\n",
    "                df3 = df2[[i,j]]\n",
    "                df3 = df3.dropna(how  =\"all\")\n",
    "\n",
    "                df3_i = df3[:][i]\n",
    "                df3_j = df3[:][j]\n",
    "\n",
    "                df4 = df3_i.eq(df3_j)\n",
    "\n",
    "                weight = df4.sum()\n",
    "\n",
    "                # Votações totais\n",
    "                df5 = df3.replace([\"Sim\", \"Não\", \"Obstrução\"], True)\n",
    "\n",
    "                df5_i = df5[:][i]\n",
    "                df5_j = df5[:][j]\n",
    "\n",
    "                df6 = df5_i.eq(df5_j)\n",
    "\n",
    "                div = df6.sum()\n",
    "                \n",
    "                menor_vot = min(df5[i].sum()/len(df2),df5[j].sum()/len(df2)) \n",
    "\n",
    "                if (weight > 0):\n",
    "                    df_rede_vot = pd.concat([df_rede_vot, pd.DataFrame({\"source\":[i], \n",
    "                                                                        \"target\":[j], \n",
    "                                                                        \"weight\":[weight], \n",
    "                                                                        \"total_vot\":[div],\n",
    "                                                                        \"menor_vot\":[menor_vot]})])\n",
    "\n",
    "\n",
    "    df_rede_vot = df_rede_vot.reset_index(drop = True)\n",
    "    \n",
    "    # Calcular pesos\n",
    "    edge_list_vot = df_rede_vot.copy()\n",
    "    edge_list_vot[\"weight\"] = edge_list_vot[\"weight\"] / edge_list_vot[\"total_vot\"] * edge_list_vot[\"menor_vot\"]\n",
    "    edge_list_vot.drop([\"total_vot\", \"menor_vot\"], axis = 1, inplace = True)\n",
    "\n",
    "    return edge_list_vot"
   ]
  },
  {
   "cell_type": "markdown",
   "id": "8aeaf802",
   "metadata": {},
   "source": [
    "# 2.0 Transformações & Salvamentos"
   ]
  },
  {
   "cell_type": "code",
   "execution_count": 45,
   "id": "dd8bd9d5",
   "metadata": {},
   "outputs": [],
   "source": [
    "# Realizar transformação\n",
    "edge_list_dep_acum_1_dp = transform_dep_dp(\"C:/Users/SergioRicardoRodrigu/Desktop/TCC/analise/deputados/dados/bruto_dep_acum_1.xlsx\")\n",
    "\n",
    "# Salvar em disco\n",
    "edge_list_dep_acum_1_dp.to_parquet(\"C:/Users/SergioRicardoRodrigu/Desktop/TCC/analise/deputados/dados/edge_list_dep_acum_1_dp.parquet\",\n",
    "                                                                                                                index = False)"
   ]
  },
  {
   "cell_type": "code",
   "execution_count": 188,
   "id": "6906343d",
   "metadata": {},
   "outputs": [],
   "source": [
    "# Realizar transformação\n",
    "edge_list_dep_acum_1_2_dp = transform_dep_dp(\"C:/Users/SergioRicardoRodrigu/Desktop/TCC/analise/deputados/dados/bruto_dep_acum_1_2.xlsx\")\n",
    "\n",
    "# Salvar em disco\n",
    "edge_list_dep_acum_1_2_dp.to_parquet(\"C:/Users/SergioRicardoRodrigu/Desktop/TCC/analise/deputados/dados/edge_list_dep_acum_1_2_dp.parquet\",\n",
    "                                                                                                                index = False)"
   ]
  },
  {
   "cell_type": "code",
   "execution_count": 190,
   "id": "7aff82ff",
   "metadata": {},
   "outputs": [],
   "source": [
    "# Realizar transformação\n",
    "edge_list_dep_acum_1_3_dp = transform_dep_dp(\"C:/Users/SergioRicardoRodrigu/Desktop/TCC/analise/deputados/dados/bruto_dep_acum_1_3.xlsx\")\n",
    "\n",
    "# Salvar em disco\n",
    "edge_list_dep_acum_1_3_dp.to_parquet(\"C:/Users/SergioRicardoRodrigu/Desktop/TCC/analise/deputados/dados/edge_list_dep_acum_1_3_dp.parquet\",\n",
    "                                                                                                                index = False)"
   ]
  },
  {
   "cell_type": "code",
   "execution_count": 191,
   "id": "b5db8d04",
   "metadata": {},
   "outputs": [],
   "source": [
    "# Realizar transformação\n",
    "edge_list_dep_acum_1_4_dp = transform_dep_dp(\"C:/Users/SergioRicardoRodrigu/Desktop/TCC/analise/deputados/dados/bruto_dep_acum_1_4.xlsx\")\n",
    "\n",
    "# Salvar em disco\n",
    "edge_list_dep_acum_1_4_dp.to_parquet(\"C:/Users/SergioRicardoRodrigu/Desktop/TCC/analise/deputados/dados/edge_list_dep_acum_1_4_dp.parquet\",\n",
    "                                                                                                                index = False)"
   ]
  },
  {
   "cell_type": "code",
   "execution_count": 192,
   "id": "7acc49e6",
   "metadata": {},
   "outputs": [],
   "source": [
    "# Realizar transformação\n",
    "edge_list_dep_acum_1_5_dp = transform_dep_dp(\"C:/Users/SergioRicardoRodrigu/Desktop/TCC/analise/deputados/dados/bruto_dep_acum_1_5.xlsx\")\n",
    "\n",
    "# Salvar em disco\n",
    "edge_list_dep_acum_1_5_dp.to_parquet(\"C:/Users/SergioRicardoRodrigu/Desktop/TCC/analise/deputados/dados/edge_list_dep_acum_1_5_dp.parquet\",\n",
    "                                                                                                                index = False)"
   ]
  },
  {
   "cell_type": "code",
   "execution_count": 193,
   "id": "e2d494a5",
   "metadata": {},
   "outputs": [],
   "source": [
    "# Realizar transformação\n",
    "edge_list_dep_acum_1_6_dp = transform_dep_dp(\"C:/Users/SergioRicardoRodrigu/Desktop/TCC/analise/deputados/dados/bruto_dep_acum_1_6.xlsx\")\n",
    "\n",
    "# Salvar em disco\n",
    "edge_list_dep_acum_1_6_dp.to_parquet(\"C:/Users/SergioRicardoRodrigu/Desktop/TCC/analise/deputados/dados/edge_list_dep_acum_1_6_dp.parquet\",\n",
    "                                                                                                                index = False)"
   ]
  },
  {
   "cell_type": "code",
   "execution_count": 46,
   "id": "3a77218b",
   "metadata": {},
   "outputs": [],
   "source": [
    "# Realizar transformação\n",
    "edge_list_dep_acum_1_7_dp = transform_dep_dp(\"C:/Users/SergioRicardoRodrigu/Desktop/TCC/analise/deputados/dados/bruto_dep_acum_1_7.xlsx\")\n",
    "\n",
    "# Salvar em disco\n",
    "edge_list_dep_acum_1_7_dp.to_parquet(\"C:/Users/SergioRicardoRodrigu/Desktop/TCC/analise/deputados/dados/edge_list_dep_acum_1_7_dp.parquet\",\n",
    "                                                                                                                index = False)"
   ]
  }
 ],
 "metadata": {
  "kernelspec": {
   "display_name": "Python 3",
   "language": "python",
   "name": "python3"
  },
  "language_info": {
   "codemirror_mode": {
    "name": "ipython",
    "version": 3
   },
   "file_extension": ".py",
   "mimetype": "text/x-python",
   "name": "python",
   "nbconvert_exporter": "python",
   "pygments_lexer": "ipython3",
   "version": "3.8.8"
  }
 },
 "nbformat": 4,
 "nbformat_minor": 5
}
