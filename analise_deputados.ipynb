{
 "cells": [
  {
   "cell_type": "code",
   "execution_count": 1,
   "id": "cdb1b442",
   "metadata": {},
   "outputs": [],
   "source": [
    "# pip install igraph"
   ]
  },
  {
   "cell_type": "code",
   "execution_count": 2,
   "id": "f8ef4899",
   "metadata": {},
   "outputs": [
    {
     "name": "stdout",
     "output_type": "stream",
     "text": [
      "Requirement already satisfied: pycairo in c:\\anaconda3\\lib\\site-packages (1.21.0)\n",
      "Note: you may need to restart the kernel to use updated packages.\n"
     ]
    }
   ],
   "source": [
    "# pip install pycairo"
   ]
  },
  {
   "cell_type": "code",
   "execution_count": 45,
   "id": "9e50e53e",
   "metadata": {},
   "outputs": [],
   "source": [
    "import igraph as ig\n",
    "import cairo\n",
    "import pandas as pd\n",
    "import numpy as np"
   ]
  },
  {
   "cell_type": "code",
   "execution_count": 19,
   "id": "909c6d16",
   "metadata": {},
   "outputs": [],
   "source": [
    "edgelist = pd.read_csv(\"edge_list_vot.csv\", sep = \";\")"
   ]
  },
  {
   "cell_type": "code",
   "execution_count": 20,
   "id": "dd86ce00",
   "metadata": {},
   "outputs": [],
   "source": [
    "net = ig.Graph.DataFrame(edgelist, directed = False)"
   ]
  },
  {
   "cell_type": "code",
   "execution_count": 50,
   "id": "8e4cdefe",
   "metadata": {},
   "outputs": [],
   "source": [
    "def degree_entropy (net):\n",
    "    p = []\n",
    "    degrees = net.degree()\n",
    "    entropy = []\n",
    "    \n",
    "    for d in degrees:\n",
    "        p.append(d / net.vcount())\n",
    "    \n",
    "    [x for x in p if x >= 1]\n",
    "    \n",
    "    for i in p:\n",
    "        entropy.append(-i * np.log(i))\n",
    "    \n",
    "    entropy = sum(entropy)\n",
    "    \n",
    "    return entropy"
   ]
  },
  {
   "cell_type": "code",
   "execution_count": 51,
   "id": "661605fe",
   "metadata": {},
   "outputs": [
    {
     "data": {
      "text/plain": [
       "0.99914917740136"
      ]
     },
     "execution_count": 51,
     "metadata": {},
     "output_type": "execute_result"
    }
   ],
   "source": [
    "def path_entropy (net)"
   ]
  },
  {
   "cell_type": "code",
   "execution_count": 70,
   "id": "858defda",
   "metadata": {},
   "outputs": [
    {
     "data": {
      "text/plain": [
       "0    [1, 0, 1, 1, 1, 1, 1, 1, 1, 1, 1, 1, 1, 1, 1, ...\n",
       "dtype: object"
      ]
     },
     "execution_count": 70,
     "metadata": {},
     "output_type": "execute_result"
    }
   ],
   "source": [
    "pd.Series(net.shortest_paths(1))"
   ]
  },
  {
   "cell_type": "code",
   "execution_count": null,
   "id": "38e1f4e5",
   "metadata": {},
   "outputs": [],
   "source": []
  }
 ],
 "metadata": {
  "kernelspec": {
   "display_name": "Python 3",
   "language": "python",
   "name": "python3"
  },
  "language_info": {
   "codemirror_mode": {
    "name": "ipython",
    "version": 3
   },
   "file_extension": ".py",
   "mimetype": "text/x-python",
   "name": "python",
   "nbconvert_exporter": "python",
   "pygments_lexer": "ipython3",
   "version": "3.8.8"
  }
 },
 "nbformat": 4,
 "nbformat_minor": 5
}
